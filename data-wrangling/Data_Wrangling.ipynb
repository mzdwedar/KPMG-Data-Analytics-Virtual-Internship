{
  "nbformat": 4,
  "nbformat_minor": 0,
  "metadata": {
    "colab": {
      "name": "Data Wrangling.ipynb",
      "provenance": [],
      "collapsed_sections": [],
      "authorship_tag": "ABX9TyMuv66s+L8fwkKEFwcLiDM9",
      "include_colab_link": true
    },
    "kernelspec": {
      "name": "python3",
      "display_name": "Python 3"
    },
    "language_info": {
      "name": "python"
    }
  },
  "cells": [
    {
      "cell_type": "markdown",
      "metadata": {
        "id": "view-in-github",
        "colab_type": "text"
      },
      "source": [
        "<a href=\"https://colab.research.google.com/github/mzdwedar/KPMG-Data-Analytics-Virtual-Internship/blob/main/data-wrangling/Data_Wrangling.ipynb\" target=\"_parent\"><img src=\"https://colab.research.google.com/assets/colab-badge.svg\" alt=\"Open In Colab\"/></a>"
      ]
    },
    {
      "cell_type": "code",
      "source": [
        "import pandas as pd\n",
        "import numpy as np"
      ],
      "metadata": {
        "id": "uOR1aaQzkB3K"
      },
      "execution_count": null,
      "outputs": []
    },
    {
      "cell_type": "code",
      "source": [
        "demo = pd.read_excel('KPMG_raw_data.xlsx', sheet_name='CustomerDemographic', header=1)\n",
        "address = pd.read_excel('KPMG_raw_data.xlsx', sheet_name='CustomerAddress', header=1)\n",
        "transactions = pd.read_excel('KPMG_raw_data.xlsx', sheet_name='Transactions', header=1)\n",
        "new_demo = pd.read_excel('KPMG_raw_data.xlsx', sheet_name='NewCustomerList', header=1)"
      ],
      "metadata": {
        "colab": {
          "base_uri": "https://localhost:8080/"
        },
        "id": "2_HnVRDUkEs-",
        "outputId": "877afafb-7a32-46aa-d79b-a2b9a5dd509e"
      },
      "execution_count": null,
      "outputs": [
        {
          "output_type": "stream",
          "name": "stderr",
          "text": [
            "/usr/local/lib/python3.7/dist-packages/ipykernel_launcher.py:1: FutureWarning: Inferring datetime64[ns] from data containing strings is deprecated and will be removed in a future version. To retain the old behavior explicitly pass Series(data, dtype={value.dtype})\n",
            "  \"\"\"Entry point for launching an IPython kernel.\n",
            "/usr/local/lib/python3.7/dist-packages/ipykernel_launcher.py:4: FutureWarning: Inferring datetime64[ns] from data containing strings is deprecated and will be removed in a future version. To retain the old behavior explicitly pass Series(data, dtype={value.dtype})\n",
            "  after removing the cwd from sys.path.\n"
          ]
        }
      ]
    },
    {
      "cell_type": "code",
      "source": [
        "len(demo), len(address), len(transactions), len(new_demo)"
      ],
      "metadata": {
        "colab": {
          "base_uri": "https://localhost:8080/"
        },
        "id": "VYEwRHeCkIlZ",
        "outputId": "fca32065-bd6d-4050-ace2-edc2c6ac795c"
      },
      "execution_count": null,
      "outputs": [
        {
          "output_type": "execute_result",
          "data": {
            "text/plain": [
              "(4000, 3999, 20000, 1000)"
            ]
          },
          "metadata": {},
          "execution_count": 3
        }
      ]
    },
    {
      "cell_type": "code",
      "source": [
        "#### t\n",
        "\n",
        "## Transactions\n",
        "# some of the customer_id isn't registered in demo_table (i.e 5034)\n",
        "# brand, product_line, product_class, product_size, standard_cost, product_first_sold_date has the same 'NaN' all belong to product_id 0\n",
        "\n",
        "# transaction_id: primary_key\n",
        "# product_id: most_purchased product? to uint8\n",
        "# customer_id: the one with most purchases?\n",
        "# online order: isna, binary (0,1)\n",
        "# order_status: isna, binary(approved, cancelled)\n",
        "# brand: isna, categorical\n",
        "# product_line: isna, categorical\n",
        "# product_class: isna, category\n",
        "# product_size: isna, category\n",
        "\n",
        "## Demo\n",
        "# Gender: to_categorical, F -> Female, Femal -> Female, M -> Male\n",
        "# last_name: isna\n",
        "# default: drop\n",
        "# owns_car: (Yes, No) to binary(categorical)\n",
        "# tenure: to integer, isna\n",
        "# deceased_indictor: (N, Y) to_categorical\n",
        "# wealth_segment: ('Mass Customer', 'Affluent Customer', 'High Net Worth') to categorical\n",
        "# job_industry_category: categorical, isna\n",
        "# job_title: string, isna\n",
        "# DOB: dateofbirth: isna\n",
        "# past_3_years_bike_related_purchases: isna, to int16"
      ],
      "metadata": {
        "id": "E_1gVZiDa_pN"
      },
      "execution_count": null,
      "outputs": []
    },
    {
      "cell_type": "code",
      "source": [
        "def create_age(demo):\n",
        "  demo['age'] = (2017 - pd.DatetimeIndex(demo.DOB.fillna(demo.DOB.mean())).year).astype(np.int8)\n",
        "  return demo\n",
        "\n",
        "def create_age_bins(demo):\n",
        "  demo['age_bins']  = pd.cut(x=demo.age, bins=[10, 19, 29, 39, 49, 86])\n",
        "  return demo\n",
        "\n",
        "def clean_demo(demo):\n",
        "  return (demo\n",
        "  .drop(columns=['default'])\n",
        "\n",
        "  .assign(\n",
        "      gender = demo.gender.replace({'Femal':'F', 'Female':'F', 'Male':'M'}).astype('category'),\n",
        "      wealth_segment = demo.wealth_segment.astype('category'),\n",
        "      owns_car = demo.owns_car.replace({'Yes':1, 'No':0}).astype(np.int8),\n",
        "      deceased_indicator = demo.deceased_indicator.replace({'N':0, 'Y':1}).astype(np.int8),\n",
        "      job_title = demo.job_title.fillna(demo.job_title.mode().iloc[0]),\n",
        "      tenure = demo.tenure.fillna(demo.tenure.mean()).astype(np.int8),\n",
        "      job_industry_category = demo.job_industry_category.fillna(demo.job_industry_category.mode().iloc[0]).astype('category'),\n",
        "      past_3_years_bike_related_purchases = demo.past_3_years_bike_related_purchases.fillna(demo.past_3_years_bike_related_purchases.mean()).astype(np.uint8),\n",
        "      DOB = demo.DOB.fillna(demo.DOB.mean()),\n",
        "\n",
        "    )\n",
        "  \n",
        "  .pipe(create_age)\n",
        "  .pipe(create_age_bins)\n",
        "\n",
        "  .drop(axis=0, index=33)\n",
        "  .drop(columns=['DOB', 'age'])\n",
        "  )\n",
        "  \n",
        "  # .age_bins.value_counts(sort=False).plot.bar(rot=0, title='Age', color=\"b\", figsize=(6,4)).get_figure().savefig('age.png')"
      ],
      "metadata": {
        "id": "ESCnZuXyaMTx"
      },
      "execution_count": null,
      "outputs": []
    },
    {
      "cell_type": "code",
      "source": [
        "np.iinfo(np.uint8)"
      ],
      "metadata": {
        "colab": {
          "base_uri": "https://localhost:8080/"
        },
        "id": "yZDnoMzcm3n-",
        "outputId": "9d82803c-5ecd-448e-98ef-54995188c7ff"
      },
      "execution_count": null,
      "outputs": [
        {
          "output_type": "execute_result",
          "data": {
            "text/plain": [
              "iinfo(min=0, max=255, dtype=uint8)"
            ]
          },
          "metadata": {},
          "execution_count": 91
        }
      ]
    },
    {
      "cell_type": "code",
      "source": [
        "def clean_address(address):\n",
        "  return (address\n",
        "  .drop(axis=0, index=[3996, 3997, 3998])\n",
        "  .assign(\n",
        "      state = address.state.replace({'New South Wales':'NSW', 'Victoria':'VIC'})\n",
        "  )\n",
        "  .astype({'customer_id':'int16', 'postcode':'int16', 'country':'category', 'property_valuation':'int8'})\n",
        "  )"
      ],
      "metadata": {
        "id": "tbWg7J7gyjUv"
      },
      "execution_count": null,
      "outputs": []
    },
    {
      "cell_type": "code",
      "source": [
        "def clean_transactions(transactions):\n",
        "  return (transactions\n",
        "  .drop(axis=0, index=[8707, 16700, 17468])\n",
        "  .drop(columns=['product_first_sold_date'])\n",
        "  .dropna()\n",
        "  .astype({'transaction_id':'int16', 'customer_id':'int16', 'product_id':'int16', 'list_price':'float16', 'standard_cost':'float16', 'brand':'category',\n",
        "            'product_line':'category', 'product_class':'category', 'product_size':'category', 'order_status':'category', 'online_order':'int8'})\n",
        "  )"
      ],
      "metadata": {
        "id": "ydma4s512yOg"
      },
      "execution_count": null,
      "outputs": []
    },
    {
      "cell_type": "code",
      "source": [
        "new_demo = pd.read_excel('KPMG_raw_data.xlsx', sheet_name='NewCustomerList', usecols= str,header=1)"
      ],
      "metadata": {
        "id": "4W3WmktRjGsj"
      },
      "execution_count": null,
      "outputs": []
    },
    {
      "cell_type": "code",
      "source": [
        "new_demo.loc[:,~new_demo.columns.str.match(\"Unnamed\")]"
      ],
      "metadata": {
        "id": "uodKfyN7jXWp"
      },
      "execution_count": null,
      "outputs": []
    },
    {
      "cell_type": "code",
      "source": [
        "def demo_trans(demo, trans):\n",
        "  return pd.merge(demo, trans, on='customer_id')"
      ],
      "metadata": {
        "id": "weGjbMu-XkQM"
      },
      "execution_count": null,
      "outputs": []
    },
    {
      "cell_type": "code",
      "source": [
        "(demo\n",
        " .pipe(clean_demo)\n",
        " .pipe(demo_trans, clean_address(address))\n",
        ").groupby('age_bins')['past_3_years_bike_related_purchases'].sum().plot.bar()"
      ],
      "metadata": {
        "colab": {
          "base_uri": "https://localhost:8080/",
          "height": 327
        },
        "id": "L6zSZMfjmwNW",
        "outputId": "35fbce02-f1d5-4d1e-bcad-68f88ce554e8"
      },
      "execution_count": null,
      "outputs": [
        {
          "output_type": "execute_result",
          "data": {
            "text/plain": [
              "<matplotlib.axes._subplots.AxesSubplot at 0x7f8df01b02d0>"
            ]
          },
          "metadata": {},
          "execution_count": 85
        },
        {
          "output_type": "display_data",
          "data": {
            "text/plain": [
              "<Figure size 432x288 with 1 Axes>"
            ],
            "image/png": "[encoded data removed]"
          },
          "metadata": {
            "needs_background": "light"
          }
        }
      ]
    },
    {
      "cell_type": "code",
      "source": [
        ""
      ],
      "metadata": {
        "id": "nwT8Zm5_nNTD"
      },
      "execution_count": null,
      "outputs": []
    }
  ]
}